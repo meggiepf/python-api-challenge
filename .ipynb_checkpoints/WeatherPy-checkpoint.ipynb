{
 "cells": [
  {
   "cell_type": "markdown",
   "metadata": {},
   "source": [
    "# WeatherPy\n",
    "----\n",
    "\n",
    "#### Note\n",
    "* Instructions have been included for each segment. You do not have to follow them exactly, but they are included to help you think through the steps."
   ]
  },
  {
   "cell_type": "code",
   "execution_count": 1,
   "metadata": {
    "scrolled": true
   },
   "outputs": [],
   "source": [
    "# Dependencies and Setup\n",
    "import matplotlib.pyplot as plt\n",
    "import pandas as pd\n",
    "import numpy as np\n",
    "import requests\n",
    "import time\n",
    "from scipy.stats import linregress\n",
    "\n",
    "# Import API key\n",
    "from api_keys import weather_api_key\n",
    "\n",
    "#Incorporated citipy to determine city based on latitude and longitude\n",
    "from citipy import citipy\n",
    "\n",
    "# Output File (CSV)\n",
    "output_data_file = \"output_data/cities.csv\"\n",
    "\n",
    "# Range of latitudes and longitudes\n",
    "lat_range = (-90, 90)\n",
    "lng_range = (-180, 180)"
   ]
  },
  {
   "cell_type": "markdown",
   "metadata": {},
   "source": [
    "## Generate Cities List"
   ]
  },
  {
   "cell_type": "code",
   "execution_count": 2,
   "metadata": {},
   "outputs": [
    {
     "data": {
      "text/plain": [
       "609"
      ]
     },
     "execution_count": 2,
     "metadata": {},
     "output_type": "execute_result"
    }
   ],
   "source": [
    "# List for holding lat_lngs and cities\n",
    "lat_lngs = []\n",
    "cities = []\n",
    "\n",
    "# Create a set of random lat and lng combinations\n",
    "lats = np.random.uniform(lat_range[0], lat_range[1], size=1500)\n",
    "lngs = np.random.uniform(lng_range[0], lng_range[1], size=1500)\n",
    "lat_lngs = zip(lats, lngs)\n",
    "\n",
    "# Identify nearest city for each lat, lng combination\n",
    "for lat_lng in lat_lngs:\n",
    "    city = citipy.nearest_city(lat_lng[0], lat_lng[1]).city_name\n",
    "    \n",
    "    # If the city is unique, then add it to a our cities list\n",
    "    if city not in cities:\n",
    "        cities.append(city)\n",
    "\n",
    "# Print the city count to confirm sufficient count\n",
    "len(cities)"
   ]
  },
  {
   "cell_type": "markdown",
   "metadata": {},
   "source": [
    "### Perform API Calls\n",
    "* Perform a weather check on each city using a series of successive API calls.\n",
    "* Include a print log of each city as it'sbeing processed (with the city number and city name).\n"
   ]
  },
  {
   "cell_type": "code",
   "execution_count": null,
   "metadata": {
    "scrolled": true
   },
   "outputs": [
    {
     "name": "stdout",
     "output_type": "stream",
     "text": [
      "Retrieving Results for Index 0: Port Alfred\n",
      "Retrieving Results for Index 1: Saint George\n",
      "Retrieving Results for Index 2: Cairns\n",
      "Retrieving Results for Index 3: Vaini\n",
      "Retrieving Results for Index 4: Kruisfontein\n",
      "Retrieving Results for Index 5: Kapaa\n",
      "Retrieving Results for Index 6: Ust-Kuyga\n",
      "Retrieving Results for Index 7: Departamento de Maldonado\n",
      "Retrieving Results for Index 8: Tuktoyaktuk\n",
      "Retrieving Results for Index 9: Ushuaia\n",
      "Retrieving Results for Index 10: Charagua\n",
      "Retrieving Results for Index 11: Aklavik\n",
      "Retrieving Results for Index 12: Yellowknife\n",
      "Retrieving Results for Index 13: Hīt\n",
      "Retrieving Results for Index 14: Lufilufi\n",
      "Retrieving Results for Index 15: São Paulo de Olivença\n",
      "Retrieving Results for Index 16: Sur\n",
      "Retrieving Results for Index 17: Carnarvon\n",
      "Retrieving Results for Index 18: Kiryat Gat\n",
      "Retrieving Results for Index 19: Pacific Grove\n",
      "Retrieving Results for Index 20: Puerto Ayora\n",
      "Retrieving Results for Index 21: Nosy Varika\n",
      "Retrieving Results for Index 22: Itupiranga\n",
      "Retrieving Results for Index 23: Ribeira Grande\n",
      "Retrieving Results for Index 24: Cape Town\n",
      "Retrieving Results for Index 25: Bluff\n",
      "Retrieving Results for Index 26: Baikunthpur\n",
      "Retrieving Results for Index 27: Albany\n",
      "Retrieving Results for Index 28: New Norfolk\n",
      "City not found\n",
      "Retrieving Results for Index 30: Olafsvik\n",
      "Retrieving Results for Index 31: Bariloche\n",
      "Retrieving Results for Index 32: Koumac\n",
      "Retrieving Results for Index 33: Lékoni\n",
      "Retrieving Results for Index 34: Hobart\n",
      "Retrieving Results for Index 35: Rikitea\n",
      "Retrieving Results for Index 36: Busselton\n",
      "Retrieving Results for Index 37: Ketchikan\n",
      "Retrieving Results for Index 38: Cherskiy\n",
      "Retrieving Results for Index 39: Pevek\n",
      "City not found\n",
      "Retrieving Results for Index 41: Punta Arenas\n",
      "City not found\n",
      "Retrieving Results for Index 43: Sisimiut\n",
      "Retrieving Results for Index 44: Meulaboh\n",
      "Retrieving Results for Index 45: Olenino\n",
      "Retrieving Results for Index 46: Bengkulu\n",
      "Retrieving Results for Index 47: Ayan\n",
      "Retrieving Results for Index 48: Hong Kong\n",
      "City not found\n",
      "City not found\n",
      "Retrieving Results for Index 51: Jamestown\n",
      "Retrieving Results for Index 52: Khatanga\n",
      "Retrieving Results for Index 53: Tangjiazhuang\n",
      "Retrieving Results for Index 54: Ancud\n",
      "Retrieving Results for Index 55: Road Town\n",
      "Retrieving Results for Index 56: Dunedin\n",
      "Retrieving Results for Index 57: Bereket\n",
      "Retrieving Results for Index 58: Lebu\n",
      "Retrieving Results for Index 59: Saint Anthony\n",
      "Retrieving Results for Index 60: Wajima\n",
      "Retrieving Results for Index 61: Mataura\n",
      "City not found\n",
      "Retrieving Results for Index 63: Lompoc\n",
      "Retrieving Results for Index 64: Katangli\n",
      "Retrieving Results for Index 65: Mar del Plata\n",
      "Retrieving Results for Index 66: Qaanaaq\n",
      "Retrieving Results for Index 67: Bredasdorp\n",
      "Retrieving Results for Index 68: Suchiapa\n",
      "Retrieving Results for Index 69: Ban Nahin\n",
      "City not found\n",
      "Retrieving Results for Index 71: Codrington\n",
      "Retrieving Results for Index 72: São João da Barra\n",
      "Retrieving Results for Index 73: Gamboma\n",
      "Retrieving Results for Index 74: Tasiilaq\n",
      "Retrieving Results for Index 75: Jasper\n",
      "City not found\n",
      "Retrieving Results for Index 77: Pisco\n",
      "Retrieving Results for Index 78: Dargaville\n",
      "Retrieving Results for Index 79: Galle\n",
      "Retrieving Results for Index 80: Wewak\n",
      "Retrieving Results for Index 81: Avarua\n",
      "Retrieving Results for Index 82: The Pas\n",
      "Retrieving Results for Index 83: Qujing\n",
      "Retrieving Results for Index 84: Ziro\n",
      "Retrieving Results for Index 85: Casper\n",
      "Retrieving Results for Index 86: Avera\n",
      "Retrieving Results for Index 87: Tommot\n",
      "Retrieving Results for Index 88: Whitehorse\n",
      "Retrieving Results for Index 89: Fairbanks\n",
      "Retrieving Results for Index 90: Thompson\n",
      "Retrieving Results for Index 91: Lorengau\n",
      "Retrieving Results for Index 92: Barrow\n",
      "Retrieving Results for Index 93: Geraldton\n",
      "Retrieving Results for Index 94: Aquiraz\n",
      "Retrieving Results for Index 95: Yar-Sale\n",
      "Retrieving Results for Index 96: Vestmannaeyjar\n",
      "Retrieving Results for Index 97: Sambava\n",
      "City not found\n",
      "Retrieving Results for Index 99: Havelock\n",
      "Retrieving Results for Index 100: Linfen\n",
      "Retrieving Results for Index 101: George Town\n",
      "Retrieving Results for Index 102: Port Lincoln\n",
      "Retrieving Results for Index 103: Flin Flon\n",
      "Retrieving Results for Index 104: Pimentel\n",
      "Retrieving Results for Index 105: Gameleira\n",
      "Retrieving Results for Index 106: Hilo\n",
      "Retrieving Results for Index 107: Alice Springs\n",
      "Retrieving Results for Index 108: Seddon\n",
      "Retrieving Results for Index 109: Bathsheba\n",
      "Retrieving Results for Index 110: Saint-Philippe\n",
      "Retrieving Results for Index 111: Tuatapere\n",
      "Retrieving Results for Index 112: Chernyshevskiy\n",
      "Retrieving Results for Index 113: Distrikt Brokopondo\n",
      "Retrieving Results for Index 114: Waddān\n",
      "Retrieving Results for Index 115: Constantine\n",
      "Retrieving Results for Index 116: Bethel\n",
      "Retrieving Results for Index 117: Rosetta\n",
      "Retrieving Results for Index 118: Pulandian\n",
      "Retrieving Results for Index 119: Hualmay\n",
      "Retrieving Results for Index 120: Butaritari\n",
      "Retrieving Results for Index 121: Thinadhoo\n",
      "Retrieving Results for Index 122: Dikson\n",
      "Retrieving Results for Index 123: Atuona\n",
      "Retrieving Results for Index 124: Soe\n",
      "Retrieving Results for Index 125: Port Elizabeth\n",
      "Retrieving Results for Index 126: Yablonovo\n",
      "Retrieving Results for Index 127: Fortuna\n",
      "Retrieving Results for Index 128: Hamada\n",
      "Retrieving Results for Index 129: Samarai\n",
      "Retrieving Results for Index 130: Hithadhoo\n",
      "Retrieving Results for Index 131: Souillac\n",
      "Retrieving Results for Index 132: La Ronge\n",
      "Retrieving Results for Index 133: Kavieng\n",
      "Retrieving Results for Index 134: Huilong\n",
      "Retrieving Results for Index 135: Vanavara\n",
      "Retrieving Results for Index 136: Wad Rāwah\n",
      "City not found\n",
      "Retrieving Results for Index 138: Sitka\n",
      "Retrieving Results for Index 139: Kozhva\n",
      "Retrieving Results for Index 140: Hermanus\n",
      "City not found\n",
      "Retrieving Results for Index 142: Maiduguri\n",
      "Retrieving Results for Index 143: Nazilli\n",
      "Retrieving Results for Index 144: Adrar\n",
      "Retrieving Results for Index 145: Bambous Virieux\n",
      "Retrieving Results for Index 146: Alta Floresta\n",
      "Retrieving Results for Index 147: Ponta do Sol\n",
      "City not found\n",
      "Retrieving Results for Index 149: Arraial do Cabo\n",
      "Retrieving Results for Index 150: Hutchinson\n",
      "Retrieving Results for Index 151: Kudahuvadhoo\n",
      "Retrieving Results for Index 152: Manicoré\n",
      "Retrieving Results for Index 153: Leh\n",
      "Retrieving Results for Index 154: Prado\n",
      "Retrieving Results for Index 155: Kahului\n",
      "Retrieving Results for Index 156: Berlevåg\n",
      "City not found\n",
      "City not found\n",
      "Retrieving Results for Index 159: Dali\n",
      "Retrieving Results for Index 160: Spornoye\n",
      "Retrieving Results for Index 161: Abū Zabad\n",
      "Retrieving Results for Index 162: Vallenar\n",
      "Retrieving Results for Index 163: Upernavik\n",
      "Retrieving Results for Index 164: Pemangkat\n",
      "Retrieving Results for Index 165: Otavi\n"
     ]
    }
   ],
   "source": [
    "url = \"http://api.openweathermap.org/data/2.5/weather?\"\n",
    "\n",
    "# query_url = url + \"appid=\" + weather_api_key + \"&q=\" + 'kholm'\n",
    "    \n",
    "# weather_response = requests.get(query_url)\n",
    "# weather_json = weather_response.json()\n",
    "\n",
    "# print(cities)\n",
    "# print(cities.index('port alfred'))\n",
    "\n",
    "for city in cities:\n",
    "    # Build query URL based on current element in units\n",
    "    query_url = url + \"appid=\" + weather_api_key + \"&q=\" + city \n",
    "    \n",
    "    weather_response = requests.get(query_url)\n",
    "    weather_json = weather_response.json()\n",
    "   \n",
    "\n",
    "    #  Print the log of each city with the city number and city name\n",
    "    try:\n",
    "        \n",
    "         print(f\"Retrieving Results for Index {cities.index(city)}: {weather_json['name']}\" )\n",
    "        \n",
    "    # Handle exceptions for a city that cannot be retrieved \n",
    "    except:\n",
    "        # Append null values\n",
    "        print(\"City not found\")\n",
    "        pass\n",
    "\n"
   ]
  },
  {
   "cell_type": "markdown",
   "metadata": {},
   "source": [
    "### Convert Raw Data to DataFrame\n",
    "* Export the city data into a .csv.\n",
    "* Display the DataFrame"
   ]
  },
  {
   "cell_type": "code",
   "execution_count": null,
   "metadata": {},
   "outputs": [],
   "source": []
  },
  {
   "cell_type": "code",
   "execution_count": null,
   "metadata": {},
   "outputs": [],
   "source": []
  },
  {
   "cell_type": "markdown",
   "metadata": {},
   "source": [
    "## Inspect the data and remove the cities where the humidity > 100%.\n",
    "----\n",
    "Skip this step if there are no cities that have humidity > 100%. "
   ]
  },
  {
   "cell_type": "code",
   "execution_count": null,
   "metadata": {},
   "outputs": [],
   "source": []
  },
  {
   "cell_type": "code",
   "execution_count": null,
   "metadata": {},
   "outputs": [],
   "source": [
    "#  Get the indices of cities that have humidity over 100%.\n"
   ]
  },
  {
   "cell_type": "code",
   "execution_count": null,
   "metadata": {},
   "outputs": [],
   "source": [
    "# Make a new DataFrame equal to the city data to drop all humidity outliers by index.\n",
    "# Passing \"inplace=False\" will make a copy of the city_data DataFrame, which we call \"clean_city_data\".\n"
   ]
  },
  {
   "cell_type": "code",
   "execution_count": null,
   "metadata": {},
   "outputs": [],
   "source": [
    "\n"
   ]
  },
  {
   "cell_type": "markdown",
   "metadata": {},
   "source": [
    "## Plotting the Data\n",
    "* Use proper labeling of the plots using plot titles (including date of analysis) and axes labels.\n",
    "* Save the plotted figures as .pngs."
   ]
  },
  {
   "cell_type": "markdown",
   "metadata": {},
   "source": [
    "## Latitude vs. Temperature Plot"
   ]
  },
  {
   "cell_type": "code",
   "execution_count": null,
   "metadata": {
    "scrolled": true
   },
   "outputs": [],
   "source": []
  },
  {
   "cell_type": "markdown",
   "metadata": {},
   "source": [
    "## Latitude vs. Humidity Plot"
   ]
  },
  {
   "cell_type": "code",
   "execution_count": null,
   "metadata": {},
   "outputs": [],
   "source": []
  },
  {
   "cell_type": "markdown",
   "metadata": {},
   "source": [
    "## Latitude vs. Cloudiness Plot"
   ]
  },
  {
   "cell_type": "code",
   "execution_count": null,
   "metadata": {},
   "outputs": [],
   "source": []
  },
  {
   "cell_type": "markdown",
   "metadata": {},
   "source": [
    "## Latitude vs. Wind Speed Plot"
   ]
  },
  {
   "cell_type": "code",
   "execution_count": null,
   "metadata": {},
   "outputs": [],
   "source": []
  },
  {
   "cell_type": "markdown",
   "metadata": {},
   "source": [
    "## Linear Regression"
   ]
  },
  {
   "cell_type": "code",
   "execution_count": null,
   "metadata": {},
   "outputs": [],
   "source": []
  },
  {
   "cell_type": "markdown",
   "metadata": {},
   "source": [
    "####  Northern Hemisphere - Max Temp vs. Latitude Linear Regression"
   ]
  },
  {
   "cell_type": "code",
   "execution_count": null,
   "metadata": {},
   "outputs": [],
   "source": []
  },
  {
   "cell_type": "markdown",
   "metadata": {},
   "source": [
    "####  Southern Hemisphere - Max Temp vs. Latitude Linear Regression"
   ]
  },
  {
   "cell_type": "code",
   "execution_count": null,
   "metadata": {},
   "outputs": [],
   "source": []
  },
  {
   "cell_type": "markdown",
   "metadata": {},
   "source": [
    "####  Northern Hemisphere - Humidity (%) vs. Latitude Linear Regression"
   ]
  },
  {
   "cell_type": "code",
   "execution_count": null,
   "metadata": {},
   "outputs": [],
   "source": []
  },
  {
   "cell_type": "markdown",
   "metadata": {},
   "source": [
    "####  Southern Hemisphere - Humidity (%) vs. Latitude Linear Regression"
   ]
  },
  {
   "cell_type": "code",
   "execution_count": null,
   "metadata": {},
   "outputs": [],
   "source": []
  },
  {
   "cell_type": "markdown",
   "metadata": {},
   "source": [
    "####  Northern Hemisphere - Cloudiness (%) vs. Latitude Linear Regression"
   ]
  },
  {
   "cell_type": "code",
   "execution_count": null,
   "metadata": {},
   "outputs": [],
   "source": []
  },
  {
   "cell_type": "markdown",
   "metadata": {},
   "source": [
    "####  Southern Hemisphere - Cloudiness (%) vs. Latitude Linear Regression"
   ]
  },
  {
   "cell_type": "code",
   "execution_count": null,
   "metadata": {},
   "outputs": [],
   "source": []
  },
  {
   "cell_type": "markdown",
   "metadata": {},
   "source": [
    "####  Northern Hemisphere - Wind Speed (mph) vs. Latitude Linear Regression"
   ]
  },
  {
   "cell_type": "code",
   "execution_count": null,
   "metadata": {},
   "outputs": [],
   "source": []
  },
  {
   "cell_type": "markdown",
   "metadata": {},
   "source": [
    "####  Southern Hemisphere - Wind Speed (mph) vs. Latitude Linear Regression"
   ]
  },
  {
   "cell_type": "code",
   "execution_count": null,
   "metadata": {},
   "outputs": [],
   "source": []
  },
  {
   "cell_type": "code",
   "execution_count": null,
   "metadata": {},
   "outputs": [],
   "source": []
  }
 ],
 "metadata": {
  "anaconda-cloud": {},
  "kernel_info": {
   "name": "python3"
  },
  "kernelspec": {
   "display_name": "Python 3",
   "language": "python",
   "name": "python3"
  },
  "language_info": {
   "codemirror_mode": {
    "name": "ipython",
    "version": 3
   },
   "file_extension": ".py",
   "mimetype": "text/x-python",
   "name": "python",
   "nbconvert_exporter": "python",
   "pygments_lexer": "ipython3",
   "version": "3.8.8"
  },
  "latex_envs": {
   "LaTeX_envs_menu_present": true,
   "autoclose": false,
   "autocomplete": true,
   "bibliofile": "biblio.bib",
   "cite_by": "apalike",
   "current_citInitial": 1,
   "eqLabelWithNumbers": true,
   "eqNumInitial": 1,
   "hotkeys": {
    "equation": "Ctrl-E",
    "itemize": "Ctrl-I"
   },
   "labels_anchors": false,
   "latex_user_defs": false,
   "report_style_numbering": false,
   "user_envs_cfg": false
  },
  "nteract": {
   "version": "0.12.3"
  }
 },
 "nbformat": 4,
 "nbformat_minor": 2
}
